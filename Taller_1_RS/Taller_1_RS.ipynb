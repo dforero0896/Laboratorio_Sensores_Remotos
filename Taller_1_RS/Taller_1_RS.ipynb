{
 "cells": [
  {
   "cell_type": "code",
   "execution_count": 2,
   "metadata": {
    "collapsed": false
   },
   "outputs": [
    {
     "ename": "ImportError",
     "evalue": "No module named gdal",
     "output_type": "error",
     "traceback": [
      "\u001b[0;31m---------------------------------------------------------------------------\u001b[0m",
      "\u001b[0;31mImportError\u001b[0m                               Traceback (most recent call last)",
      "\u001b[0;32m<ipython-input-2-e06d3b418572>\u001b[0m in \u001b[0;36m<module>\u001b[0;34m()\u001b[0m\n\u001b[0;32m----> 1\u001b[0;31m \u001b[1;32mimport\u001b[0m \u001b[0mgdal\u001b[0m\u001b[1;33m\u001b[0m\u001b[0m\n\u001b[0m\u001b[1;32m      2\u001b[0m \u001b[1;32mimport\u001b[0m \u001b[0mnumpy\u001b[0m \u001b[1;32mas\u001b[0m \u001b[0mnp\u001b[0m\u001b[1;33m\u001b[0m\u001b[0m\n\u001b[1;32m      3\u001b[0m \u001b[1;32mimport\u001b[0m \u001b[0mmatplotlib\u001b[0m\u001b[1;33m.\u001b[0m\u001b[0mpyplot\u001b[0m \u001b[1;32mas\u001b[0m \u001b[0mplt\u001b[0m\u001b[1;33m\u001b[0m\u001b[0m\n\u001b[1;32m      4\u001b[0m \u001b[1;32mimport\u001b[0m \u001b[0mos\u001b[0m\u001b[1;33m\u001b[0m\u001b[0m\n\u001b[1;32m      5\u001b[0m \u001b[0mget_ipython\u001b[0m\u001b[1;33m(\u001b[0m\u001b[1;33m)\u001b[0m\u001b[1;33m.\u001b[0m\u001b[0mmagic\u001b[0m\u001b[1;33m(\u001b[0m\u001b[1;34mu'matplotlib inline'\u001b[0m\u001b[1;33m)\u001b[0m\u001b[1;33m\u001b[0m\u001b[0m\n",
      "\u001b[0;31mImportError\u001b[0m: No module named gdal"
     ]
    }
   ],
   "source": [
    "from osgeo import gdal\n",
    "import numpy as np\n",
    "import matplotlib.pyplot as plt\n",
    "import os\n",
    "import subprocess\n",
    "import matplotlib.image as mpimg\n",
    "from osgeo import gdal_array\n"
   ]
  },
  {
   "cell_type": "code",
   "execution_count": 6,
   "metadata": {
    "collapsed": false
   },
   "outputs": [],
   "source": [
    "# open raster and choose band to find min, max\n",
    "raster = r'srtm_39_05.tif'\n",
    "gtif = gdal.Open(raster)\n",
    "srcband = gtif.GetRasterBand(1)\n",
    "#datos = srcband.ReadAsArray()"
   ]
  },
  {
   "cell_type": "code",
   "execution_count": 7,
   "metadata": {
    "collapsed": false
   },
   "outputs": [
    {
     "name": "stdout",
     "output_type": "stream",
     "text": [
      "Min= -74.0\n",
      "Max= 3313.0\n",
      "Mean= 284.219764043\n"
     ]
    }
   ],
   "source": [
    "stats = srcband.GetStatistics(True, True)\n",
    "print 'Min=', stats[0]\n",
    "print 'Max=', stats[1]\n",
    "print 'Mean=', stats[2]"
   ]
  },
  {
   "cell_type": "code",
   "execution_count": 8,
   "metadata": {
    "collapsed": false
   },
   "outputs": [
    {
     "data": {
      "text/plain": [
       "0"
      ]
     },
     "execution_count": 8,
     "metadata": {},
     "output_type": "execute_result"
    }
   ],
   "source": [
    "os.system('gdal_translate -srcwin 0 0 1500 1500 srtm_39_05.tif cut.tif')"
   ]
  },
  {
   "cell_type": "code",
   "execution_count": 9,
   "metadata": {
    "collapsed": true
   },
   "outputs": [],
   "source": [
    "raster = r'cut.tif'\n",
    "gtif_cut = gdal.Open(raster)\n",
    "srcband_cut = gtif_cut.GetRasterBand(1)"
   ]
  },
  {
   "cell_type": "code",
   "execution_count": 10,
   "metadata": {
    "collapsed": false
   },
   "outputs": [
    {
     "ename": "ImportError",
     "evalue": "No module named _gdal_array",
     "output_type": "error",
     "traceback": [
      "\u001b[0;31m---------------------------------------------------------------------------\u001b[0m",
      "\u001b[0;31mImportError\u001b[0m                               Traceback (most recent call last)",
      "\u001b[0;32m<ipython-input-10-2653d2a8fb54>\u001b[0m in \u001b[0;36m<module>\u001b[0;34m()\u001b[0m\n\u001b[1;32m      1\u001b[0m \u001b[0mtraza\u001b[0m\u001b[0;34m=\u001b[0m\u001b[0;36m0\u001b[0m\u001b[0;34m\u001b[0m\u001b[0m\n\u001b[0;32m----> 2\u001b[0;31m \u001b[0minitial_DEM_arr\u001b[0m\u001b[0;34m=\u001b[0m\u001b[0mgtif_cut\u001b[0m\u001b[0;34m.\u001b[0m\u001b[0mReadAsArray\u001b[0m\u001b[0;34m(\u001b[0m\u001b[0;34m)\u001b[0m\u001b[0;34m\u001b[0m\u001b[0m\n\u001b[0m\u001b[1;32m      3\u001b[0m \u001b[0;32mfor\u001b[0m \u001b[0mi\u001b[0m \u001b[0;32min\u001b[0m \u001b[0mrange\u001b[0m\u001b[0;34m(\u001b[0m\u001b[0;36m0\u001b[0m\u001b[0;34m,\u001b[0m \u001b[0;36m1500\u001b[0m\u001b[0;34m)\u001b[0m\u001b[0;34m:\u001b[0m\u001b[0;34m\u001b[0m\u001b[0m\n\u001b[1;32m      4\u001b[0m     \u001b[0mvalue\u001b[0m\u001b[0;34m=\u001b[0m\u001b[0minitial_DEM_arr\u001b[0m\u001b[0;34m[\u001b[0m\u001b[0mi\u001b[0m\u001b[0;34m,\u001b[0m\u001b[0mi\u001b[0m\u001b[0;34m]\u001b[0m\u001b[0;34m\u001b[0m\u001b[0m\n\u001b[1;32m      5\u001b[0m     \u001b[0;31m#value=subprocess.check_output('gdallocationinfo cut.tif %d %d | grep Value | sed \"s/^.*:\\s//g\"'%(i,i), shell=True)\u001b[0m\u001b[0;34m\u001b[0m\u001b[0;34m\u001b[0m\u001b[0m\n",
      "\u001b[0;32m/home/daniel/anaconda2/lib/python2.7/site-packages/osgeo/gdal.pyc\u001b[0m in \u001b[0;36mReadAsArray\u001b[0;34m(self, xoff, yoff, xsize, ysize, buf_obj)\u001b[0m\n\u001b[1;32m    779\u001b[0m \u001b[0;34m\u001b[0m\u001b[0m\n\u001b[1;32m    780\u001b[0m     \u001b[0;32mdef\u001b[0m \u001b[0mReadAsArray\u001b[0m\u001b[0;34m(\u001b[0m\u001b[0mself\u001b[0m\u001b[0;34m,\u001b[0m \u001b[0mxoff\u001b[0m\u001b[0;34m=\u001b[0m\u001b[0;36m0\u001b[0m\u001b[0;34m,\u001b[0m \u001b[0myoff\u001b[0m\u001b[0;34m=\u001b[0m\u001b[0;36m0\u001b[0m\u001b[0;34m,\u001b[0m \u001b[0mxsize\u001b[0m\u001b[0;34m=\u001b[0m\u001b[0mNone\u001b[0m\u001b[0;34m,\u001b[0m \u001b[0mysize\u001b[0m\u001b[0;34m=\u001b[0m\u001b[0mNone\u001b[0m\u001b[0;34m,\u001b[0m \u001b[0mbuf_obj\u001b[0m\u001b[0;34m=\u001b[0m\u001b[0mNone\u001b[0m \u001b[0;34m)\u001b[0m\u001b[0;34m:\u001b[0m\u001b[0;34m\u001b[0m\u001b[0m\n\u001b[0;32m--> 781\u001b[0;31m         \u001b[0;32mimport\u001b[0m \u001b[0mgdalnumeric\u001b[0m\u001b[0;34m\u001b[0m\u001b[0m\n\u001b[0m\u001b[1;32m    782\u001b[0m         \u001b[0;32mreturn\u001b[0m \u001b[0mgdalnumeric\u001b[0m\u001b[0;34m.\u001b[0m\u001b[0mDatasetReadAsArray\u001b[0m\u001b[0;34m(\u001b[0m \u001b[0mself\u001b[0m\u001b[0;34m,\u001b[0m \u001b[0mxoff\u001b[0m\u001b[0;34m,\u001b[0m \u001b[0myoff\u001b[0m\u001b[0;34m,\u001b[0m \u001b[0mxsize\u001b[0m\u001b[0;34m,\u001b[0m \u001b[0mysize\u001b[0m\u001b[0;34m,\u001b[0m \u001b[0mbuf_obj\u001b[0m \u001b[0;34m)\u001b[0m\u001b[0;34m\u001b[0m\u001b[0m\n\u001b[1;32m    783\u001b[0m     def WriteRaster(self, xoff, yoff, xsize, ysize,\n",
      "\u001b[0;32m/home/daniel/anaconda2/lib/python2.7/site-packages/osgeo/gdalnumeric.py\u001b[0m in \u001b[0;36m<module>\u001b[0;34m()\u001b[0m\n\u001b[0;32m----> 1\u001b[0;31m \u001b[0;32mfrom\u001b[0m \u001b[0mgdal_array\u001b[0m \u001b[0;32mimport\u001b[0m \u001b[0;34m*\u001b[0m\u001b[0;34m\u001b[0m\u001b[0m\n\u001b[0m\u001b[1;32m      2\u001b[0m \u001b[0;32mfrom\u001b[0m \u001b[0mnumpy\u001b[0m \u001b[0;32mimport\u001b[0m \u001b[0;34m*\u001b[0m\u001b[0;34m\u001b[0m\u001b[0m\n",
      "\u001b[0;32m/home/daniel/anaconda2/lib/python2.7/site-packages/osgeo/gdal_array.py\u001b[0m in \u001b[0;36m<module>\u001b[0;34m()\u001b[0m\n\u001b[1;32m     23\u001b[0m                 \u001b[0mfp\u001b[0m\u001b[0;34m.\u001b[0m\u001b[0mclose\u001b[0m\u001b[0;34m(\u001b[0m\u001b[0;34m)\u001b[0m\u001b[0;34m\u001b[0m\u001b[0m\n\u001b[1;32m     24\u001b[0m             \u001b[0;32mreturn\u001b[0m \u001b[0m_mod\u001b[0m\u001b[0;34m\u001b[0m\u001b[0m\n\u001b[0;32m---> 25\u001b[0;31m     \u001b[0m_gdal_array\u001b[0m \u001b[0;34m=\u001b[0m \u001b[0mswig_import_helper\u001b[0m\u001b[0;34m(\u001b[0m\u001b[0;34m)\u001b[0m\u001b[0;34m\u001b[0m\u001b[0m\n\u001b[0m\u001b[1;32m     26\u001b[0m     \u001b[0;32mdel\u001b[0m \u001b[0mswig_import_helper\u001b[0m\u001b[0;34m\u001b[0m\u001b[0m\n\u001b[1;32m     27\u001b[0m \u001b[0;32melse\u001b[0m\u001b[0;34m:\u001b[0m\u001b[0;34m\u001b[0m\u001b[0m\n",
      "\u001b[0;32m/home/daniel/anaconda2/lib/python2.7/site-packages/osgeo/gdal_array.py\u001b[0m in \u001b[0;36mswig_import_helper\u001b[0;34m()\u001b[0m\n\u001b[1;32m     15\u001b[0m             \u001b[0mfp\u001b[0m\u001b[0;34m,\u001b[0m \u001b[0mpathname\u001b[0m\u001b[0;34m,\u001b[0m \u001b[0mdescription\u001b[0m \u001b[0;34m=\u001b[0m \u001b[0mimp\u001b[0m\u001b[0;34m.\u001b[0m\u001b[0mfind_module\u001b[0m\u001b[0;34m(\u001b[0m\u001b[0;34m'_gdal_array'\u001b[0m\u001b[0;34m,\u001b[0m \u001b[0;34m[\u001b[0m\u001b[0mdirname\u001b[0m\u001b[0;34m(\u001b[0m\u001b[0m__file__\u001b[0m\u001b[0;34m)\u001b[0m\u001b[0;34m]\u001b[0m\u001b[0;34m)\u001b[0m\u001b[0;34m\u001b[0m\u001b[0m\n\u001b[1;32m     16\u001b[0m         \u001b[0;32mexcept\u001b[0m \u001b[0mImportError\u001b[0m\u001b[0;34m:\u001b[0m\u001b[0;34m\u001b[0m\u001b[0m\n\u001b[0;32m---> 17\u001b[0;31m             \u001b[0;32mimport\u001b[0m \u001b[0m_gdal_array\u001b[0m\u001b[0;34m\u001b[0m\u001b[0m\n\u001b[0m\u001b[1;32m     18\u001b[0m             \u001b[0;32mreturn\u001b[0m \u001b[0m_gdal_array\u001b[0m\u001b[0;34m\u001b[0m\u001b[0m\n\u001b[1;32m     19\u001b[0m         \u001b[0;32mif\u001b[0m \u001b[0mfp\u001b[0m \u001b[0;32mis\u001b[0m \u001b[0;32mnot\u001b[0m \u001b[0mNone\u001b[0m\u001b[0;34m:\u001b[0m\u001b[0;34m\u001b[0m\u001b[0m\n",
      "\u001b[0;31mImportError\u001b[0m: No module named _gdal_array"
     ]
    }
   ],
   "source": [
    "traza=0\n",
    "initial_DEM_arr=gtif_cut.ReadAsArray()\n",
    "for i in range(0, 1500):\n",
    "    value=initial_DEM_arr[i,i]\n",
    "    #value=subprocess.check_output('gdallocationinfo cut.tif %d %d | grep Value | sed \"s/^.*:\\s//g\"'%(i,i), shell=True)\n",
    "    value=int(value)\n",
    "    traza+=value    "
   ]
  },
  {
   "cell_type": "code",
   "execution_count": null,
   "metadata": {
    "collapsed": false
   },
   "outputs": [],
   "source": [
    "print 'La suma de los elementos de la diagonal es ',traza"
   ]
  },
  {
   "cell_type": "code",
   "execution_count": null,
   "metadata": {
    "collapsed": false
   },
   "outputs": [],
   "source": [
    "mypic = gdal.Open(r'mypic.jpg')\n",
    "myband_1=mypic.GetRasterBand(1)\n",
    "myband_2=mypic.GetRasterBand(2)\n",
    "myband_3=mypic.GetRasterBand(3)"
   ]
  },
  {
   "cell_type": "code",
   "execution_count": null,
   "metadata": {
    "collapsed": false
   },
   "outputs": [],
   "source": [
    "stats_R=myband_1.GetStatistics(True, True)\n",
    "print 'Min R=', stats_R[0]\n",
    "print 'Max R=', stats_R[1]\n",
    "print 'Mean R= ', stats_R[3]\n",
    "stats_G=myband_2.GetStatistics(True, True)\n",
    "print 'Min G=', stats_G[0]\n",
    "print 'Max G=', stats_G[1]\n",
    "print 'Mean G= ', stats_G[3]\n",
    "stats_B=myband_3.GetStatistics(True, True)\n",
    "print 'Min B=', stats_B[0]\n",
    "print 'Max B=', stats_B[1]\n",
    "print 'Mean B= ', stats_B[3]"
   ]
  },
  {
   "cell_type": "code",
   "execution_count": null,
   "metadata": {
    "collapsed": false
   },
   "outputs": [],
   "source": [
    "mypic_arr=mpimg.imread('mypic.jpg')\n",
    "mypic_R=myband_1.ReadAsArray()\n",
    "mypic_G=myband_2.ReadAsArray()\n",
    "mypic_B=myband_3.ReadAsArray()\n",
    "mypic_arr_tiff=mypic_R+mypic_G+mypic_B\n",
    "plt.imshow(mypic_arr)\n",
    "mypic_arr_tiff=np.zeros(np.shape(mypic_arr)[:-1])\n",
    "for i in range(0, len(mypic_arr[0,:])):\n",
    "    for k in range(0,len(mypic_arr[:,0])):\n",
    "        mypic_arr_tiff[i,k]=sum(mypic_arr[i,k])\n",
    "plt.axis('off')\n"
   ]
  },
  {
   "cell_type": "code",
   "execution_count": null,
   "metadata": {
    "collapsed": false
   },
   "outputs": [],
   "source": [
    "from matplotlib.ticker import *\n",
    "plt.imshow(mypic_arr_tiff)\n",
    "plt.axis('off')\n",
    "plt.gcf()\n",
    "ax=plt.gca()\n",
    "ax.xaxis.set_major_locator(NullLocator())\n",
    "ax.yaxis.set_major_locator(NullLocator())\n",
    "plt.savefig('mypic.tif', bbox_inches='tight', pad_inches=0.0)\n"
   ]
  },
  {
   "cell_type": "code",
   "execution_count": null,
   "metadata": {
    "collapsed": false
   },
   "outputs": [],
   "source": [
    "os.system('gdal_translate -srcwin 299 0 10 10 mypic.tif mycut.tif')"
   ]
  },
  {
   "cell_type": "code",
   "execution_count": null,
   "metadata": {
    "collapsed": false
   },
   "outputs": [],
   "source": [
    "from osgeo.gdalconst import *\n",
    "\n",
    "driver = gtif.GetDriver()\n",
    "mypic_out=driver.Create('mypic.tif' , len(mypic_arr_tiff[0,:]), len(mypic_arr_tiff[:,0]), 1, GDT_Int32)\n",
    "mypic_Band = mypic_out.GetRasterBand(1)\n",
    "mypic_Band.WriteArray(mypic_arr_tiff, 0, 0)\n",
    "\n"
   ]
  },
  {
   "cell_type": "code",
   "execution_count": null,
   "metadata": {
    "collapsed": false
   },
   "outputs": [],
   "source": [
    "littleCorner=gdal.Open(r'mycut.tif')\n",
    "littleBand=littleCorner.GetRasterBand(1)\n",
    "littleStats= littleBand.GetStatistics(True, True)\n",
    "print 'El valor promedio de la región de 10x10 es ', littleStats[3]"
   ]
  },
  {
   "cell_type": "code",
   "execution_count": null,
   "metadata": {
    "collapsed": false
   },
   "outputs": [],
   "source": [
    "\n",
    "cut_arr=srcband_cut.ReadAsArray()\n",
    "\n",
    "cut_arr[-1-len(mypic_arr_tiff[:,0]):-1,-1-len(mypic_arr_tiff[0,:]):-1 ]-=mypic_arr_tiff\n",
    "\n",
    "\n"
   ]
  },
  {
   "cell_type": "code",
   "execution_count": null,
   "metadata": {
    "collapsed": false
   },
   "outputs": [],
   "source": [
    "driver = gtif.GetDriver()\n",
    "DEM_mypic_out=driver.Create('DEM_mypic.tif' , np.shape(cut_arr)[0], np.shape(cut_arr)[1], 1, GDT_Int32)\n",
    "DEM_mypic_Band = DEM_mypic_out.GetRasterBand(1)\n",
    "DEM_mypic_Band.WriteArray(cut_arr, 0, 0)\n"
   ]
  },
  {
   "cell_type": "code",
   "execution_count": null,
   "metadata": {
    "collapsed": false
   },
   "outputs": [],
   "source": [
    "os.system(\"gdal_translate -outsize 60 60 cut.tif small_cut.tif\")"
   ]
  },
  {
   "cell_type": "code",
   "execution_count": null,
   "metadata": {
    "collapsed": true
   },
   "outputs": [],
   "source": [
    "small_cut=gdal.Open('small_cut.tif')\n",
    "small_cut_band=small_cut.GetRasterBand(1)\n",
    "small_cut_arr=small_cut_band.ReasAsArray()\n",
    "mypic_Dem_arr=np.copy(mypic_arr_tiff)\n",
    "mypic_Dem_arr[-1:-len(mypic_arr_tiff[:,0]),:len(mypic_arr_tiff[0,:])]+=small_cut_arr\n",
    "\n",
    "driver = gtif.GetDriver()\n",
    "mypic_DEM_out=driver.Create('mypic_DEM.tif' , np.shape(cut_arr)[0], np.shape(cut_arr)[1], 1, GDT_Int32)\n",
    "mypic_DEM_Band = mypic_DEM_out.GetRasterBand(1)\n",
    "mypic_DEM_Band.WriteArray(mypic_Dem_arr, 0, 0)"
   ]
  },
  {
   "cell_type": "code",
   "execution_count": null,
   "metadata": {
    "collapsed": true
   },
   "outputs": [],
   "source": [
    "#FALTA EL 10\n",
    "np.astype()"
   ]
  },
  {
   "cell_type": "code",
   "execution_count": null,
   "metadata": {
    "collapsed": true
   },
   "outputs": [],
   "source": [
    "def f(x, y):\n",
    "    return (np.sin(x*y))**3.\n",
    "evalFunc=np.zeros(np.shape(mypic_arr_tiff))\n",
    "for i in range(len(mypic_arr_tiff[:,0])):\n",
    "    for k in range(len(mypic_arr_tiff[0,:])):\n",
    "        x=\n",
    "        evalFunc[i,k]="
   ]
  },
  {
   "cell_type": "code",
   "execution_count": null,
   "metadata": {
    "collapsed": true
   },
   "outputs": [],
   "source": []
  }
 ],
 "metadata": {
  "anaconda-cloud": {},
  "kernelspec": {
   "display_name": "Python 2",
   "language": "python",
   "name": "python2"
  },
  "language_info": {
   "codemirror_mode": {
    "name": "ipython",
    "version": 2
   },
   "file_extension": ".py",
   "mimetype": "text/x-python",
   "name": "python",
   "nbconvert_exporter": "python",
   "pygments_lexer": "ipython2",
   "version": "2.7.13"
  }
 },
 "nbformat": 4,
 "nbformat_minor": 1
}
